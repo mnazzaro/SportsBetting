{
 "cells": [
  {
   "cell_type": "code",
   "execution_count": 8,
   "metadata": {},
   "outputs": [],
   "source": [
    "import pandas as pd\n",
    "import numpy as np\n",
    "import config\n",
    "from sklearn.experimental import enable_iterative_imputer\n",
    "from sklearn.impute import IterativeImputer, SimpleImputer\n",
    "from sklearn.decomposition import FactorAnalysis, PCA\n",
    "from pipeline.training.data_manager import _X_feature_selector, _y_feature_selector\n",
    "import matplotlib.pyplot as plt\n",
    "\n",
    "data = pd.read_csv(f'{config.TRAINING_DATA_PATH}/dataset.csv')"
   ]
  },
  {
   "cell_type": "code",
   "execution_count": 9,
   "metadata": {},
   "outputs": [
    {
     "name": "stderr",
     "output_type": "stream",
     "text": [
      "/tmp/ipykernel_82390/3411146690.py:4: SettingWithCopyWarning: \n",
      "A value is trying to be set on a copy of a slice from a DataFrame\n",
      "\n",
      "See the caveats in the documentation: https://pandas.pydata.org/pandas-docs/stable/user_guide/indexing.html#returning-a-view-versus-a-copy\n",
      "  X.drop(columns=['nc_red', 'nc_blue', 'nc_direct_difference'], inplace=True)\n"
     ]
    }
   ],
   "source": [
    "X = data[_X_feature_selector(data)]\n",
    "y = data[_y_feature_selector()]\n",
    "\n",
    "X.drop(columns=['nc_red', 'nc_blue', 'nc_direct_difference'], inplace=True)"
   ]
  },
  {
   "cell_type": "code",
   "execution_count": 16,
   "metadata": {},
   "outputs": [
    {
     "data": {
      "image/png": "[encoded data removed]",
      "text/plain": [
       "<Figure size 640x480 with 1 Axes>"
      ]
     },
     "metadata": {},
     "output_type": "display_data"
    }
   ],
   "source": [
    "plt.hist(X['ctrl_per_min_mean_red'][~X['ctrl_per_min_mean_red'].isna()], bins=70)\n",
    "plt.show()"
   ]
  },
  {
   "cell_type": "code",
   "execution_count": 4,
   "metadata": {},
   "outputs": [],
   "source": [
    "# imp = IterativeImputer(max_iter=10, random_state=77)\n",
    "imp = SimpleImputer(missing_values=np.nan, strategy='mean')\n",
    "imputed_X = imp.fit_transform(X)"
   ]
  },
  {
   "cell_type": "code",
   "execution_count": 6,
   "metadata": {},
   "outputs": [
    {
     "ename": "AttributeError",
     "evalue": "'PCA' object has no attribute 'feature_names_in_'",
     "output_type": "error",
     "traceback": [
      "\u001b[0;31m---------------------------------------------------------------------------\u001b[0m",
      "\u001b[0;31mAttributeError\u001b[0m                            Traceback (most recent call last)",
      "\u001b[1;32m/home/markn/Documents/SportsBetting/source/exploratory_data_analysis.ipynb Cell 5\u001b[0m line \u001b[0;36m4\n\u001b[1;32m      <a href='vscode-notebook-cell:/home/markn/Documents/SportsBetting/source/exploratory_data_analysis.ipynb#W1sZmlsZQ%3D%3D?line=1'>2</a>\u001b[0m pca \u001b[39m=\u001b[39m PCA(n_components\u001b[39m=\u001b[39m\u001b[39m10\u001b[39m)\n\u001b[1;32m      <a href='vscode-notebook-cell:/home/markn/Documents/SportsBetting/source/exploratory_data_analysis.ipynb#W1sZmlsZQ%3D%3D?line=2'>3</a>\u001b[0m transformed_data \u001b[39m=\u001b[39m pca\u001b[39m.\u001b[39mfit_transform(imputed_X)\n\u001b[0;32m----> <a href='vscode-notebook-cell:/home/markn/Documents/SportsBetting/source/exploratory_data_analysis.ipynb#W1sZmlsZQ%3D%3D?line=3'>4</a>\u001b[0m \u001b[39mprint\u001b[39m (pca\u001b[39m.\u001b[39;49mfeature_names_in_)\n\u001b[1;32m      <a href='vscode-notebook-cell:/home/markn/Documents/SportsBetting/source/exploratory_data_analysis.ipynb#W1sZmlsZQ%3D%3D?line=4'>5</a>\u001b[0m \u001b[39m# print (pca.explained_variance_)\u001b[39;00m\n\u001b[1;32m      <a href='vscode-notebook-cell:/home/markn/Documents/SportsBetting/source/exploratory_data_analysis.ipynb#W1sZmlsZQ%3D%3D?line=5'>6</a>\u001b[0m \u001b[39m# print (pca.explained_variance_ratio_)\u001b[39;00m\n\u001b[1;32m      <a href='vscode-notebook-cell:/home/markn/Documents/SportsBetting/source/exploratory_data_analysis.ipynb#W1sZmlsZQ%3D%3D?line=6'>7</a>\u001b[0m \u001b[39m# transformed_data.head()\u001b[39;00m\n",
      "\u001b[0;31mAttributeError\u001b[0m: 'PCA' object has no attribute 'feature_names_in_'"
     ]
    }
   ],
   "source": [
    "\"\"\" Do principal component analysis on the dataset \"\"\"\n",
    "pca = PCA(n_components=10)\n",
    "transformed_data = pca.fit_transform(imputed_X)\n",
    "print (pca.get_feature_names_out)\n",
    "# print (pca.explained_variance_)\n",
    "# print (pca.explained_variance_ratio_)\n",
    "# transformed_data.head()"
   ]
  }
 ],
 "metadata": {
  "kernelspec": {
   "display_name": "Python 3",
   "language": "python",
   "name": "python3"
  },
  "language_info": {
   "codemirror_mode": {
    "name": "ipython",
    "version": 3
   },
   "file_extension": ".py",
   "mimetype": "text/x-python",
   "name": "python",
   "nbconvert_exporter": "python",
   "pygments_lexer": "ipython3",
   "version": "3.11.1"
  }
 },
 "nbformat": 4,
 "nbformat_minor": 2
}
