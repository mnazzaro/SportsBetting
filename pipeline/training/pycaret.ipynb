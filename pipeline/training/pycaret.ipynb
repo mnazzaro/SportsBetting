{
 "cells": [
  {
   "cell_type": "code",
   "execution_count": null,
   "metadata": {},
   "outputs": [],
   "source": [
    "# !pip install pycaret\n",
    "\n",
    "from pycaret.classification import *\n",
    "import pandas as pd\n",
    "\n",
    "train, test = pd.read_csv('train.csv'), pd.read_csv('test.csv')"
   ]
  }
 ],
 "metadata": {
  "language_info": {
   "name": "python"
  }
 },
 "nbformat": 4,
 "nbformat_minor": 2
}
